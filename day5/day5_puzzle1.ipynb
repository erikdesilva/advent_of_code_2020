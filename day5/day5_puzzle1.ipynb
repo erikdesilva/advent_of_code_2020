{
 "cells": [
  {
   "cell_type": "code",
   "execution_count": 1,
   "metadata": {},
   "outputs": [],
   "source": [
    "from math import ceil\n",
    "import os"
   ]
  },
  {
   "cell_type": "code",
   "execution_count": 2,
   "metadata": {},
   "outputs": [],
   "source": [
    "cwd = os.getcwd()\n",
    "input_txt = os.path.join(cwd, 'input.txt')"
   ]
  },
  {
   "cell_type": "code",
   "execution_count": 3,
   "metadata": {},
   "outputs": [],
   "source": [
    "class Seat():\n",
    "    \n",
    "    def __init__(self, seat_string, num_rows=128, num_cols=8):\n",
    "        self.input_string = seat_string\n",
    "        self.num_rows = num_rows\n",
    "        self.num_cols = num_cols\n",
    "\n",
    "        def parse_index(self, index_type):\n",
    "\n",
    "            if index_type == 'row':\n",
    "                id_string = self.input_string[:-3]\n",
    "                rear_char = 'B'\n",
    "                front_char = 'F'\n",
    "                valid_index = [i for i in range(self.num_rows)]\n",
    "            elif index_type == 'col':\n",
    "                id_string = self.input_string[-3:]\n",
    "                rear_char = 'R'\n",
    "                front_char = 'L'\n",
    "                valid_index = [i for i in range(self.num_cols)]\n",
    "\n",
    "            for char in id_string:\n",
    "                halfway = ceil(len(valid_index) / 2)\n",
    "                if char == rear_char:\n",
    "                    valid_index = valid_index[halfway:]\n",
    "                else:\n",
    "                    valid_index = valid_index[:halfway]\n",
    "\n",
    "            return valid_index[0]\n",
    "    \n",
    "        self.row = parse_index(self, 'row')\n",
    "        self.col = parse_index(self, 'col')\n",
    "        self.seat_id = self.row * 8 + self.col\n"
   ]
  },
  {
   "cell_type": "code",
   "execution_count": 4,
   "metadata": {},
   "outputs": [],
   "source": [
    "def calc_max_seat(input_txt):\n",
    "    with open(input_txt, newline='\\n') as input_file:\n",
    "        lst_data = input_file.read().splitlines()\n",
    "    seat_list = [Seat(i).seat_id for i in lst_data]\n",
    "    return max(seat_list)\n"
   ]
  },
  {
   "cell_type": "code",
   "execution_count": 6,
   "metadata": {},
   "outputs": [
    {
     "name": "stdout",
     "output_type": "stream",
     "text": [
      "959\n"
     ]
    }
   ],
   "source": [
    "if __name__ == '__main__':\n",
    "    print(calc_max_seat(input_txt))"
   ]
  },
  {
   "cell_type": "code",
   "execution_count": null,
   "metadata": {},
   "outputs": [],
   "source": []
  }
 ],
 "metadata": {
  "kernelspec": {
   "display_name": "Python 3",
   "language": "python",
   "name": "python3"
  },
  "language_info": {
   "codemirror_mode": {
    "name": "ipython",
    "version": 3
   },
   "file_extension": ".py",
   "mimetype": "text/x-python",
   "name": "python",
   "nbconvert_exporter": "python",
   "pygments_lexer": "ipython3",
   "version": "3.6.10"
  }
 },
 "nbformat": 4,
 "nbformat_minor": 4
}
