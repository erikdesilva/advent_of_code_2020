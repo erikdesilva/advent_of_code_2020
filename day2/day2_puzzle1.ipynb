{
 "cells": [
  {
   "cell_type": "code",
   "execution_count": 72,
   "metadata": {},
   "outputs": [],
   "source": [
    "import os \n",
    "\n",
    "cwd = os.getcwd()\n",
    "input_txt = os.path.join(cwd, 'input.txt')\n",
    "\n",
    "class findAcceptedPasswords():\n",
    "    \n",
    "    def __init__(self, input_txt):\n",
    "        \n",
    "        def parse_data(input_txt):\n",
    "            with open(input_txt, newline='\\n') as input_file:\n",
    "                lst_data = input_file.read().splitlines()\n",
    "                dct_passwords = {}\n",
    "                pass_id = 0\n",
    "                for i in lst_data:\n",
    "                    params = i.split(': ')[0]\n",
    "                    char_range = [int(i) for i in params.split(' ')[0].split('-')]\n",
    "                    target = params.split(' ')[1]\n",
    "                    password = i.split(': ')[1]\n",
    "                    dct_passwords[pass_id] = {'password': password, \n",
    "                                              'target': target, \n",
    "                                              'char_range': char_range}\n",
    "                    pass_id += 1\n",
    "                return dct_passwords\n",
    "            \n",
    "        self.input_data = parse_data(input_txt)\n",
    "        self.accepted_passwords = {}\n",
    "        self.num_accepted = None\n",
    "\n",
    "\n",
    "    def append_valid(self):\n",
    "        dct_passwords = self.input_data\n",
    "        for pass_id, values in dct_passwords.items():\n",
    "            letter_count = 0\n",
    "            for char in range(len(values['password'])):\n",
    "                if values['password'][char] == values['target']:\n",
    "                    letter_count += 1\n",
    "                else:\n",
    "                    pass\n",
    "\n",
    "            if letter_count >= values['char_range'][0] and letter_count <= values['char_range'][1]:\n",
    "                dct_passwords[pass_id]['accepted'] = True\n",
    "                self.accepted_passwords[pass_id] = dct_passwords[pass_id]\n",
    "            else:\n",
    "                dct_passwords[pass_id]['accepted'] = False\n",
    "        self.num_accepted = len(self.accepted_passwords)\n",
    "            \n"
   ]
  },
  {
   "cell_type": "code",
   "execution_count": 73,
   "metadata": {},
   "outputs": [
    {
     "name": "stdout",
     "output_type": "stream",
     "text": [
      "474\n"
     ]
    }
   ],
   "source": [
    "if __name__ == '__main__':\n",
    "    instance = findAcceptedPasswords(input_txt=input_txt)\n",
    "    instance.append_valid()\n",
    "    print(instance.num_accepted)"
   ]
  },
  {
   "cell_type": "code",
   "execution_count": null,
   "metadata": {},
   "outputs": [],
   "source": []
  }
 ],
 "metadata": {
  "kernelspec": {
   "display_name": "Python 3",
   "language": "python",
   "name": "python3"
  },
  "language_info": {
   "codemirror_mode": {
    "name": "ipython",
    "version": 3
   },
   "file_extension": ".py",
   "mimetype": "text/x-python",
   "name": "python",
   "nbconvert_exporter": "python",
   "pygments_lexer": "ipython3",
   "version": "3.6.10"
  }
 },
 "nbformat": 4,
 "nbformat_minor": 4
}
