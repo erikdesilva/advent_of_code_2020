{
 "cells": [
  {
   "cell_type": "code",
   "execution_count": 1,
   "metadata": {},
   "outputs": [],
   "source": [
    "import os\n",
    "from re import sub, findall\n",
    "\n",
    "cwd = os.getcwd()\n",
    "input_txt = os.path.join(cwd, 'input.txt')"
   ]
  },
  {
   "cell_type": "code",
   "execution_count": 69,
   "metadata": {},
   "outputs": [],
   "source": [
    "class IdentifyValidBags():\n",
    "\n",
    "    def __init__(self, input_txt):\n",
    "        with open(input_txt, newline='\\n') as input_file:\n",
    "            lst_data = input_file.read().splitlines()\n",
    "\n",
    "        def parse_rule(rule):\n",
    "            regex_main_bag = '([a-zA-Z ]+) bags?'\n",
    "            regex_held_bag = '([0-9]+)? ?([a-zA-Z ]+) bags?'\n",
    "            num_held_groups = len(rule.split(','))\n",
    "            held_str = ', '.join([regex_held_bag for i in range(num_held_groups)])\n",
    "            rule_regex = '{} contain {}'.format(regex_main_bag, held_str)\n",
    "            rules = findall(rule_regex, rule)[0]\n",
    "            sub_rules = [i for i in rules[1:] if i != '']\n",
    "            line_rules = {}\n",
    "            if len(sub_rules) > 1:\n",
    "                for i in range(len(sub_rules)):\n",
    "                    if (i % 2 == 0):\n",
    "                        line_rules[sub_rules[i+1]] = sub_rules[i]\n",
    "            self.rule_dict[rules[0]] = line_rules\n",
    "\n",
    "        self.valid_dict = {}\n",
    "        self.rule_dict = {}\n",
    "        self.check_dict = {}\n",
    "        self.valid_count = 0\n",
    "\n",
    "        [parse_rule(i) for i in lst_data]\n",
    "        \n",
    "    def update_valid(self):\n",
    "        \n",
    "        def check_contents(rule, multiplier, total_bags):\n",
    "            bag_list = []\n",
    "            for entry, num in rule.items():\n",
    "                int_bags = [int(i) for i in rule.values()]\n",
    "                total_bags += [sum(int_bags) * int(multiplier)]\n",
    "                print('|\\t', entry, num, total_bags)\n",
    "                return check_contents(self.rule_dict[entry], num, total_bags)\n",
    "        \n",
    "        for bag, rule in self.rule_dict.items():\n",
    "            print(bag)\n",
    "            check_contents(rule, 1, [1])"
   ]
  },
  {
   "cell_type": "code",
   "execution_count": 70,
   "metadata": {
    "scrolled": true
   },
   "outputs": [
    {
     "name": "stdout",
     "output_type": "stream",
     "text": [
      "light red\n",
      "|\t bright white 1 [1, 3]\n",
      "|\t shiny gold 1 [1, 3, 1]\n",
      "|\t dark olive 1 [1, 3, 1, 3]\n",
      "|\t faded blue 3 [1, 3, 1, 3, 7]\n",
      "dark orange\n",
      "|\t bright white 3 [1, 7]\n",
      "|\t shiny gold 1 [1, 7, 3]\n",
      "|\t dark olive 1 [1, 7, 3, 3]\n",
      "|\t faded blue 3 [1, 7, 3, 3, 7]\n",
      "bright white\n",
      "|\t shiny gold 1 [1, 1]\n",
      "|\t dark olive 1 [1, 1, 3]\n",
      "|\t faded blue 3 [1, 1, 3, 7]\n",
      "muted yellow\n",
      "|\t shiny gold 2 [1, 11]\n",
      "|\t dark olive 1 [1, 11, 6]\n",
      "|\t faded blue 3 [1, 11, 6, 7]\n",
      "shiny gold\n",
      "|\t dark olive 1 [1, 3]\n",
      "|\t faded blue 3 [1, 3, 7]\n",
      "dark olive\n",
      "|\t faded blue 3 [1, 7]\n",
      "vibrant plum\n",
      "|\t faded blue 5 [1, 11]\n",
      "faded blue\n",
      "dotted black\n",
      "0\n"
     ]
    }
   ],
   "source": [
    "if __name__ == '__main__':\n",
    "    my_inst = IdentifyValidBags(input_txt)\n",
    "    my_inst.update_valid()\n",
    "    print(my_inst.valid_count)\n"
   ]
  },
  {
   "cell_type": "code",
   "execution_count": 52,
   "metadata": {},
   "outputs": [
    {
     "data": {
      "text/plain": [
       "3"
      ]
     },
     "execution_count": 52,
     "metadata": {},
     "output_type": "execute_result"
    }
   ],
   "source": [
    "sum([int(i) for i in my_inst.rule_dict['shiny gold'].values()])"
   ]
  },
  {
   "cell_type": "code",
   "execution_count": 31,
   "metadata": {},
   "outputs": [
    {
     "ename": "TypeError",
     "evalue": "unsupported operand type(s) for +: 'int' and 'NoneType'",
     "output_type": "error",
     "traceback": [
      "\u001b[1;31m---------------------------------------------------------------------------\u001b[0m",
      "\u001b[1;31mTypeError\u001b[0m                                 Traceback (most recent call last)",
      "\u001b[1;32m<ipython-input-31-4e48835ebc87>\u001b[0m in \u001b[0;36m<module>\u001b[1;34m\u001b[0m\n\u001b[1;32m----> 1\u001b[1;33m \u001b[1;36m1\u001b[0m \u001b[1;33m+\u001b[0m \u001b[1;32mNone\u001b[0m\u001b[1;33m\u001b[0m\u001b[1;33m\u001b[0m\u001b[0m\n\u001b[0m",
      "\u001b[1;31mTypeError\u001b[0m: unsupported operand type(s) for +: 'int' and 'NoneType'"
     ]
    }
   ],
   "source": [
    "1 + None"
   ]
  },
  {
   "cell_type": "code",
   "execution_count": null,
   "metadata": {},
   "outputs": [],
   "source": []
  }
 ],
 "metadata": {
  "kernelspec": {
   "display_name": "Python 3",
   "language": "python",
   "name": "python3"
  },
  "language_info": {
   "codemirror_mode": {
    "name": "ipython",
    "version": 3
   },
   "file_extension": ".py",
   "mimetype": "text/x-python",
   "name": "python",
   "nbconvert_exporter": "python",
   "pygments_lexer": "ipython3",
   "version": "3.6.10"
  }
 },
 "nbformat": 4,
 "nbformat_minor": 4
}
