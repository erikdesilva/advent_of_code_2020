{
 "cells": [
  {
   "cell_type": "code",
   "execution_count": 1,
   "metadata": {},
   "outputs": [],
   "source": [
    "import os\n",
    "from re import sub, findall\n",
    "\n",
    "cwd = os.getcwd()\n",
    "input_txt = os.path.join(cwd, 'input.txt')"
   ]
  },
  {
   "cell_type": "code",
   "execution_count": 2,
   "metadata": {},
   "outputs": [],
   "source": [
    "class IdentifyValidBags():\n",
    "\n",
    "    def __init__(self, input_txt):\n",
    "        with open(input_txt, newline='\\n') as input_file:\n",
    "            lst_data = input_file.read().splitlines()\n",
    "\n",
    "        def parse_rule(rule):\n",
    "            regex_main_bag = '([a-zA-Z ]+) bags?'\n",
    "            regex_held_bag = '([0-9]+)? ?([a-zA-Z ]+) bags?'\n",
    "            num_held_groups = len(rule.split(','))\n",
    "            held_str = ', '.join([regex_held_bag for i in range(num_held_groups)])\n",
    "            rule_regex = '{} contain {}'.format(regex_main_bag, held_str)\n",
    "            rules = findall(rule_regex, rule)[0]\n",
    "            sub_rules = [i for i in rules[1:] if i != '']\n",
    "            line_rules = {}\n",
    "            if len(sub_rules) > 1:\n",
    "                for i in range(len(sub_rules)):\n",
    "                    if (i % 2 == 0):\n",
    "                        line_rules[sub_rules[i+1]] = sub_rules[i]\n",
    "            self.rule_dict[rules[0]] = line_rules\n",
    "\n",
    "        self.valid_dict = {}\n",
    "        self.rule_dict = {}\n",
    "        self.valid_count = 0\n",
    "\n",
    "        [parse_rule(i) for i in lst_data]\n",
    "        \n",
    "    def update_valid(self):\n",
    "        \n",
    "        def explore_rule(rule, iterations):\n",
    "            iterations = iterations\n",
    "            for entry in rule.keys():\n",
    "                if entry == 'shiny gold':\n",
    "                    self.valid_count += 1\n",
    "                    return True, iterations\n",
    "                else:\n",
    "                    iterations +=1\n",
    "                    explore_rule(self.rule_dict[entry], iterations)\n",
    "\n",
    "        for bag, rule in self.rule_dict.items():\n",
    "            iterations = 0\n",
    "            self.valid_dict[bag] = explore_rule(rule, iterations)\n",
    "\n",
    "        return self.valid_count"
   ]
  },
  {
   "cell_type": "code",
   "execution_count": 3,
   "metadata": {},
   "outputs": [
    {
     "name": "stdout",
     "output_type": "stream",
     "text": [
      "172\n"
     ]
    }
   ],
   "source": [
    "if __name__ == '__main__':\n",
    "    my_inst = IdentifyValidBags(input_txt)\n",
    "    print(my_inst.update_valid())\n"
   ]
  }
 ],
 "metadata": {
  "kernelspec": {
   "display_name": "Python 3",
   "language": "python",
   "name": "python3"
  },
  "language_info": {
   "codemirror_mode": {
    "name": "ipython",
    "version": 3
   },
   "file_extension": ".py",
   "mimetype": "text/x-python",
   "name": "python",
   "nbconvert_exporter": "python",
   "pygments_lexer": "ipython3",
   "version": "3.6.10"
  }
 },
 "nbformat": 4,
 "nbformat_minor": 4
}
