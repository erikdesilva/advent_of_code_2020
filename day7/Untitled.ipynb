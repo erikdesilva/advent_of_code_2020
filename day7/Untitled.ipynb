{
 "cells": [
  {
   "cell_type": "code",
   "execution_count": 1,
   "metadata": {},
   "outputs": [
    {
     "name": "stdout",
     "output_type": "stream",
     "text": [
      "126\n"
     ]
    }
   ],
   "source": [
    "def valid_bags(bag_dict):\n",
    "    \"\"\"\n",
    "    Counts how many valid bags can hold a shiny gold bag.\n",
    "    \"\"\"\n",
    "    my_bag = [\"shiny gold\"]\n",
    "    valid_bag_dict = {}\n",
    "    while len(my_bag) > 0:\n",
    "        to_check = my_bag.pop()\n",
    "        for bag in bag_dict:\n",
    "            if to_check in bag_dict[bag]:\n",
    "                my_bag.append(bag)\n",
    "                valid_bag_dict[bag] = 1\n",
    "    print (len(valid_bag_dict))\n",
    "\n",
    "def parse_rules():\n",
    "    \"\"\"\n",
    "    Parses an input file and returns a dictionary that represents\n",
    "    the bag rules.\n",
    "    \"\"\"\n",
    "    bag_dict = {}\n",
    "    with open(\"input.txt\", \"r\") as input_file:\n",
    "        for line in input_file:\n",
    "            rule_bag, bag_list = line.split(\" contain \",1)\n",
    "            rule_bag = rule_bag.split(\" bags\",1)[0]\n",
    "            bag_dict[rule_bag] = []\n",
    "            #Get rid of all the commas\n",
    "            bag_list = bag_list.replace(\",\",\"\")\n",
    "            bag_list = bag_list.split(\" \")\n",
    "            for x in range (0, len(bag_list), 4):\n",
    "                bag_type = bag_list[x+1] + \" \" + bag_list[x+2]\n",
    "                bag_dict[rule_bag].append(bag_type)\n",
    "    return bag_dict\n",
    "\n",
    "if __name__ == \"__main__\":\n",
    "    bag_dict = parse_rules()\n",
    "    valid_bags(bag_dict)"
   ]
  },
  {
   "cell_type": "code",
   "execution_count": null,
   "metadata": {},
   "outputs": [],
   "source": []
  }
 ],
 "metadata": {
  "kernelspec": {
   "display_name": "Python 3",
   "language": "python",
   "name": "python3"
  },
  "language_info": {
   "codemirror_mode": {
    "name": "ipython",
    "version": 3
   },
   "file_extension": ".py",
   "mimetype": "text/x-python",
   "name": "python",
   "nbconvert_exporter": "python",
   "pygments_lexer": "ipython3",
   "version": "3.6.10"
  }
 },
 "nbformat": 4,
 "nbformat_minor": 4
}
