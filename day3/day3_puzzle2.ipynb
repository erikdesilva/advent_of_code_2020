{
 "cells": [
  {
   "cell_type": "code",
   "execution_count": 1,
   "metadata": {},
   "outputs": [],
   "source": [
    "import os\n",
    "from math import ceil\n",
    "\n",
    "cwd = os.getcwd()\n",
    "input_txt = os.path.join(cwd, 'input.txt')\n",
    "\n",
    "with open(input_txt, newline='\\n') as input_file:\n",
    "    lst_data = input_file.read().splitlines()"
   ]
  },
  {
   "cell_type": "code",
   "execution_count": 2,
   "metadata": {},
   "outputs": [],
   "source": [
    "class CountCollisions():\n",
    "    def __init__(self, input_data, horiz_shift, vert_shift=1):\n",
    "        \n",
    "        def multiply_df(input_data, horiz_shift, vert_shift):\n",
    "            output_data = input_data\n",
    "            height = len(input_data)\n",
    "            width = len(input_data[1])\n",
    "            self.req_steps = ceil(height / vert_shift)\n",
    "            while self.req_steps > (width / horiz_shift):\n",
    "                add_zip = zip(output_data, input_data)\n",
    "                output_data = [i[0] + i[1] for i in add_zip]\n",
    "                height = len(output_data)\n",
    "                width = len(output_data[1])\n",
    "                \n",
    "            self.df_height = len(output_data)\n",
    "            return output_data\n",
    "        \n",
    "        def check_collisions(self):\n",
    "            tree_count = 0\n",
    "            for i in range(self.req_steps):\n",
    "                col = i * self.horiz_shift\n",
    "                row = i * self.vert_shift\n",
    "                if self.working_data[row][col] == '#':\n",
    "                    tree_count += 1\n",
    "                    \n",
    "            return tree_count\n",
    "        \n",
    "        self.horiz_shift = horiz_shift\n",
    "        self.vert_shift = vert_shift\n",
    "        self.working_data = multiply_df(input_data, horiz_shift, vert_shift)\n",
    "        self.tree_count = check_collisions(self)\n",
    "\n",
    "    def __mul__(self, other):\n",
    "        return self.tree_count * other\n",
    "    \n",
    "    def __rmul__(self, other):\n",
    "        return self * other\n"
   ]
  },
  {
   "cell_type": "code",
   "execution_count": 3,
   "metadata": {},
   "outputs": [
    {
     "name": "stdout",
     "output_type": "stream",
     "text": [
      "3424528800\n"
     ]
    }
   ],
   "source": [
    "if __name__ == '__main__':\n",
    "    r1d1 = CountCollisions(lst_data, horiz_shift=1, vert_shift=1)\n",
    "    r3d1 = CountCollisions(lst_data, horiz_shift=3, vert_shift=1)\n",
    "    r5d1 = CountCollisions(lst_data, horiz_shift=5, vert_shift=1)\n",
    "    r7d1 = CountCollisions(lst_data, horiz_shift=7, vert_shift=1)\n",
    "    r1d2 = CountCollisions(lst_data, horiz_shift=1, vert_shift=2)\n",
    "    \n",
    "    answer = r1d1 * r3d1 * r5d1 * r7d1 * r1d2\n",
    "    print(answer)"
   ]
  }
 ],
 "metadata": {
  "kernelspec": {
   "display_name": "Python 3",
   "language": "python",
   "name": "python3"
  },
  "language_info": {
   "codemirror_mode": {
    "name": "ipython",
    "version": 3
   },
   "file_extension": ".py",
   "mimetype": "text/x-python",
   "name": "python",
   "nbconvert_exporter": "python",
   "pygments_lexer": "ipython3",
   "version": "3.6.10"
  }
 },
 "nbformat": 4,
 "nbformat_minor": 4
}
