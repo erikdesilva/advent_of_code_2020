{
 "cells": [
  {
   "cell_type": "code",
   "execution_count": 1,
   "metadata": {},
   "outputs": [],
   "source": [
    "import os\n",
    "from math import ceil\n",
    "\n",
    "cwd = os.getcwd()\n",
    "input_txt = os.path.join(cwd, 'input.txt')\n",
    "\n",
    "with open(input_txt, newline='\\n') as input_file:\n",
    "    lst_data = input_file.read().splitlines()"
   ]
  },
  {
   "cell_type": "code",
   "execution_count": 2,
   "metadata": {},
   "outputs": [],
   "source": [
    "class CountCollisions():\n",
    "    def __init__(self, input_data, horiz_shift, vert_shift=1, start_pos=[0,0]):\n",
    "        \n",
    "        def multiply_df(input_data, horiz_shift, vert_shift):\n",
    "            output_data = input_data\n",
    "            height = len(input_data)\n",
    "            width = len(input_data[1])\n",
    "            self.req_steps = ceil(height / vert_shift)\n",
    "            while self.req_steps > (width / horiz_shift):\n",
    "                add_zip = zip(output_data, input_data)\n",
    "                output_data = [i[0] + i[1] for i in add_zip]\n",
    "                height = len(output_data)\n",
    "                width = len(output_data[1])\n",
    "                \n",
    "            self.df_height = len(output_data)\n",
    "            return output_data\n",
    "        \n",
    "        self.horiz_shift = horiz_shift\n",
    "        self.vert_shift = vert_shift\n",
    "        self.start_pos = start_pos\n",
    "        self.working_data = multiply_df(input_data, horiz_shift, vert_shift)\n",
    "        self.tree_count = 0\n",
    "        \n",
    "    def check_collisions(self):\n",
    "        start_pos = self.start_pos\n",
    "        for i in range(self.req_steps):\n",
    "            col = i * self.horiz_shift + start_pos[0]\n",
    "            row = i * self.vert_shift + start_pos[1]\n",
    "            if self.working_data[row][col] == '#':\n",
    "                self.tree_count += 1\n"
   ]
  },
  {
   "cell_type": "code",
   "execution_count": 3,
   "metadata": {},
   "outputs": [
    {
     "name": "stdout",
     "output_type": "stream",
     "text": [
      "145\n"
     ]
    }
   ],
   "source": [
    "if __name__ == '__main__':\n",
    "    instance = CountCollisions(lst_data, 3)\n",
    "    instance.check_collisions()\n",
    "    print(instance.tree_count)"
   ]
  }
 ],
 "metadata": {
  "kernelspec": {
   "display_name": "Python 3",
   "language": "python",
   "name": "python3"
  },
  "language_info": {
   "codemirror_mode": {
    "name": "ipython",
    "version": 3
   },
   "file_extension": ".py",
   "mimetype": "text/x-python",
   "name": "python",
   "nbconvert_exporter": "python",
   "pygments_lexer": "ipython3",
   "version": "3.6.10"
  }
 },
 "nbformat": 4,
 "nbformat_minor": 4
}
