{
 "cells": [
  {
   "cell_type": "code",
   "execution_count": 15,
   "metadata": {},
   "outputs": [
    {
     "name": "stdout",
     "output_type": "stream",
     "text": [
      "6161\n"
     ]
    }
   ],
   "source": [
    "import os\n",
    "from re import sub\n",
    "\n",
    "cwd = os.getcwd()\n",
    "input_txt = os.path.join(cwd, 'input.txt')\n",
    "\n",
    "\n",
    "class CalcGroupQuestions():\n",
    "\n",
    "    def __init__(self, input_txt):\n",
    "\n",
    "        with open(input_txt, newline='\\n') as input_file:\n",
    "            lst_data = input_file.read().split('\\n\\n')\n",
    "            lst_data = [sub('\\r|\\n', '', i) for i in lst_data]\n",
    "\n",
    "        def count_unique(answers):\n",
    "            unique_list = []\n",
    "            for i in answers:\n",
    "                if i not in unique_list:\n",
    "                    unique_list += [i]\n",
    "                else:\n",
    "                    pass\n",
    "            return len(unique_list)\n",
    "\n",
    "        self.group_sums = [count_unique(i) for i in lst_data]\n",
    "\n",
    "    def total_sum(self):\n",
    "        return sum(self.group_sums)\n",
    "\n",
    "\n",
    "if __name__ == '__main__':\n",
    "    my_inst = CalcGroupQuestions(input_txt)\n",
    "    print(my_inst.total_sum())\n"
   ]
  },
  {
   "cell_type": "code",
   "execution_count": null,
   "metadata": {},
   "outputs": [],
   "source": []
  }
 ],
 "metadata": {
  "kernelspec": {
   "display_name": "Python 3",
   "language": "python",
   "name": "python3"
  },
  "language_info": {
   "codemirror_mode": {
    "name": "ipython",
    "version": 3
   },
   "file_extension": ".py",
   "mimetype": "text/x-python",
   "name": "python",
   "nbconvert_exporter": "python",
   "pygments_lexer": "ipython3",
   "version": "3.6.10"
  }
 },
 "nbformat": 4,
 "nbformat_minor": 4
}
