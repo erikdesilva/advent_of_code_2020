{
 "cells": [
  {
   "cell_type": "code",
   "execution_count": 1,
   "metadata": {},
   "outputs": [
    {
     "data": {
      "text/plain": [
       "204"
      ]
     },
     "execution_count": 1,
     "metadata": {},
     "output_type": "execute_result"
    }
   ],
   "source": [
    "import os\n",
    "from re import findall\n",
    "\n",
    "cwd = os.getcwd()\n",
    "input_txt = os.path.join(cwd, 'input.txt')\n",
    "\n",
    "with open(input_txt, newline='\\n') as input_file:\n",
    "    lst_data = ''.join(input_file.read()).split('\\n\\n')\n",
    "\n",
    "req_fields = ['byr', 'ecl', 'eyr', 'hcl', 'hgt', 'iyr', 'pid']\n",
    "\n",
    "valid_count = 0\n",
    "\n",
    "for row in lst_data:\n",
    "    fields_present = []\n",
    "    pass_fields = findall('[a-z]{3}:', row)\n",
    "    pass_fields = [i.rstrip(':') for i in pass_fields]\n",
    "    for field in req_fields:\n",
    "        if field in pass_fields:\n",
    "            fields_present += [True]\n",
    "        else:\n",
    "            fields_present += [False]\n",
    "    if all(fields_present) == True:\n",
    "        valid_count += 1\n",
    "\n",
    "valid_count"
   ]
  }
 ],
 "metadata": {
  "kernelspec": {
   "display_name": "Python 3",
   "language": "python",
   "name": "python3"
  },
  "language_info": {
   "codemirror_mode": {
    "name": "ipython",
    "version": 3
   },
   "file_extension": ".py",
   "mimetype": "text/x-python",
   "name": "python",
   "nbconvert_exporter": "python",
   "pygments_lexer": "ipython3",
   "version": "3.6.10"
  }
 },
 "nbformat": 4,
 "nbformat_minor": 4
}
